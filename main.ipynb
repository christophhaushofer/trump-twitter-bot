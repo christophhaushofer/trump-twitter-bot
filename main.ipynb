{
 "cells": [
  {
   "cell_type": "markdown",
   "metadata": {},
   "source": [
    "## another Trump bot (twitter style)"
   ]
  },
  {
   "cell_type": "markdown",
   "metadata": {},
   "source": [
    "creds to https://github.com/jsvine/markovify\n",
    "data from https://github.com/mkearney/trumptweets"
   ]
  },
  {
   "cell_type": "code",
   "execution_count": 1,
   "metadata": {},
   "outputs": [],
   "source": [
    "import markovify\n",
    "import pandas as pd"
   ]
  },
  {
   "cell_type": "code",
   "execution_count": 9,
   "metadata": {},
   "outputs": [],
   "source": [
    "# built the model with markovify\n",
    "def build_model(text):  \n",
    "     return markovify.Text(text) \n",
    "\n",
    "# Generate a randomly-generated sentences of no more than 140 characters.\n",
    "def make_tweets(model):\n",
    "    str_potentially = model.make_short_sentence(140)\n",
    "    print(str_potentially)"
   ]
  },
  {
   "cell_type": "code",
   "execution_count": 10,
   "metadata": {},
   "outputs": [],
   "source": [
    "#load dataset\n",
    "data = pd.read_table(\"trumptweets-1515775693.tweets.txt\", sep=',', low_memory=False)\n",
    "dfTweets = data.text"
   ]
  },
  {
   "cell_type": "code",
   "execution_count": 11,
   "metadata": {},
   "outputs": [
    {
     "name": "stdout",
     "output_type": "stream",
     "text": [
      "Fantastic job, we are here!! #MakeAmericaGreatAgain🇺🇸 https://t.c…\n",
      ".@foxandfriends int. on Benghazi in the Oval Office on Pennsylvania Avenue http://t.co/g4yNUKHUAE\n",
      "Get the forms at https://t.co/HfihPEA3Sp so we can to the U.S. with Hurricane flights.\n",
      "@random5 You can motivate others as well as gratifying.” – Midas Touch\n",
      "How long did it take your own newspaper.\n",
      "As expected, the media stories.\n",
      "@thebageldogs @frankshow @kristinaoakes Thanks--the haters &amp; losers tweeting that he was before Obama threatened military action.\n",
      "ObamaCare has gone up a unit.\n",
      "How can @JebBush beat Hillary easily - she has a face made for radio.\n",
      "“@OMAROSA is a buyers’ market.\n"
     ]
    }
   ],
   "source": [
    "data = []\n",
    "for i in range(10):\n",
    "    x = make_tweets(build_model(dfTweets))\n",
    "    data.append(x)"
   ]
  }
 ],
 "metadata": {
  "kernelspec": {
   "display_name": "Python 3",
   "language": "python",
   "name": "python3"
  },
  "language_info": {
   "codemirror_mode": {
    "name": "ipython",
    "version": 3
   },
   "file_extension": ".py",
   "mimetype": "text/x-python",
   "name": "python",
   "nbconvert_exporter": "python",
   "pygments_lexer": "ipython3",
   "version": "3.7.0"
  }
 },
 "nbformat": 4,
 "nbformat_minor": 2
}
